{
 "cells": [
  {
   "cell_type": "code",
   "execution_count": null,
   "id": "2f3fda5f-6e46-49ad-88b9-6109e68ff332",
   "metadata": {},
   "outputs": [],
   "source": [
    "import time\n",
    "from Arm_Lib import Arm_Device\n",
    "import numpy as np\n",
    "final = []\n",
    "with open('qtest.txt', 'r') as f:\n",
    "    for line in f:\n",
    "        sep = line.strip('\\n').split('\\t')\n",
    "        tmp = []\n",
    "        for i in sep:\n",
    "            tmp.append(float(i))\n",
    "        final.append(tmp)\n",
    "Arm = Arm_Device()\n",
    "\n",
    "for i in range(101):\n",
    "    Arm.Arm_serial_servo_write6(final[0][i], final[1][i], final[2][i], final[3][i],final[4][i], 90, 500)\n",
    "    time.sleep(.01)\n",
    "qdesf=[final[0][100],final[1][100],final[2][100],final[3][100],final[4][100]]\n",
    "actf=np.zeros(5)\n",
    "for i in range(5):\n",
    "            actf[i]=Arm.Arm_serial_servo_read(i+1)\n",
    "error=qdesf-actf\n",
    "print(error)"
   ]
  }
 ],
 "metadata": {
  "kernelspec": {
   "display_name": "Python 3 (ipykernel)",
   "language": "python",
   "name": "python3"
  },
  "language_info": {
   "codemirror_mode": {
    "name": "ipython",
    "version": 3
   },
   "file_extension": ".py",
   "mimetype": "text/x-python",
   "name": "python",
   "nbconvert_exporter": "python",
   "pygments_lexer": "ipython3",
   "version": "3.8.18"
  }
 },
 "nbformat": 4,
 "nbformat_minor": 5
}
